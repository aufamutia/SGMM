{
  "nbformat": 4,
  "nbformat_minor": 0,
  "metadata": {
    "colab": {
      "name": "Untitled9.ipynb",
      "provenance": []
    },
    "kernelspec": {
      "name": "python3",
      "display_name": "Python 3"
    }
  },
  "cells": [
    {
      "cell_type": "code",
      "metadata": {
        "colab": {
          "base_uri": "https://localhost:8080/"
        },
        "id": "3Cab76isq3Bj",
        "outputId": "cdb8c987-e2a8-40c3-c3a2-cc8fc402fceb"
      },
      "source": [
        "boolean=True\r\n",
        "print(type(bool))"
      ],
      "execution_count": 2,
      "outputs": [
        {
          "output_type": "stream",
          "text": [
            "<class 'bool'>\n"
          ],
          "name": "stdout"
        }
      ]
    },
    {
      "cell_type": "code",
      "metadata": {
        "colab": {
          "base_uri": "https://localhost:8080/"
        },
        "id": "dK9bNjjjrCUS",
        "outputId": "ed24f403-46a1-4daa-e913-f6ca8188809a"
      },
      "source": [
        "string=\"Halo Guys!\"\r\n",
        "print(type(string))"
      ],
      "execution_count": 4,
      "outputs": [
        {
          "output_type": "stream",
          "text": [
            "<class 'str'>\n"
          ],
          "name": "stdout"
        }
      ]
    },
    {
      "cell_type": "code",
      "metadata": {
        "colab": {
          "base_uri": "https://localhost:8080/"
        },
        "id": "4V0oGOGmrTSm",
        "outputId": "f68c9cd1-b51d-45e3-b2ee-04a15fdbb54c"
      },
      "source": [
        "integer=1\r\n",
        "print(type(integer))"
      ],
      "execution_count": 5,
      "outputs": [
        {
          "output_type": "stream",
          "text": [
            "<class 'int'>\n"
          ],
          "name": "stdout"
        }
      ]
    },
    {
      "cell_type": "code",
      "metadata": {
        "colab": {
          "base_uri": "https://localhost:8080/"
        },
        "id": "yiMwfGUarbft",
        "outputId": "0547b240-0182-4877-ca9a-3a3f75f9c4b8"
      },
      "source": [
        "floaat=1.2\r\n",
        "print(type(floaat))"
      ],
      "execution_count": 6,
      "outputs": [
        {
          "output_type": "stream",
          "text": [
            "<class 'float'>\n"
          ],
          "name": "stdout"
        }
      ]
    },
    {
      "cell_type": "code",
      "metadata": {
        "colab": {
          "base_uri": "https://localhost:8080/"
        },
        "id": "MazNaTc5rmwM",
        "outputId": "15459387-747a-42c1-d181-574a6c1da096"
      },
      "source": [
        "listku=[1,2,3,4,5]\r\n",
        "print(type(listku))\r\n",
        "print(listku)\r\n",
        "print(*listku)\r\n",
        "print(listku[1])\r\n",
        "print(len(listku))\r\n",
        "\r\n",
        "import numpy as np\r\n",
        "listkuh=np.array([1,2,3])\r\n",
        "print(listkuh)\r\n",
        "print(listkuh/2)"
      ],
      "execution_count": 12,
      "outputs": [
        {
          "output_type": "stream",
          "text": [
            "<class 'list'>\n",
            "[1, 2, 3, 4, 5]\n",
            "1 2 3 4 5\n",
            "2\n",
            "5\n",
            "[1 2 3]\n",
            "[0.5 1.  1.5]\n"
          ],
          "name": "stdout"
        }
      ]
    },
    {
      "cell_type": "code",
      "metadata": {
        "colab": {
          "base_uri": "https://localhost:8080/"
        },
        "id": "Xm2jEczLrvZ9",
        "outputId": "d8d40abf-2ccd-49cd-acd9-8157fc58c876"
      },
      "source": [
        "tuple1=(1,2,3)\r\n",
        "print(tuple1)\r\n",
        "print(type(tuple1))"
      ],
      "execution_count": 13,
      "outputs": [
        {
          "output_type": "stream",
          "text": [
            "(1, 2, 3)\n",
            "<class 'tuple'>\n"
          ],
          "name": "stdout"
        }
      ]
    },
    {
      "cell_type": "code",
      "metadata": {
        "colab": {
          "base_uri": "https://localhost:8080/"
        },
        "id": "7WQ1IVPztqjI",
        "outputId": "a578a23e-d6fa-4853-e08c-0816b5932873"
      },
      "source": [
        "dict1={\r\n",
        "    'nama':'Aufa Mutia',\r\n",
        "    'kelas' : 'IF4409',\r\n",
        "    'nim' : '1301204233',\r\n",
        "    'nilai' : [\r\n",
        "               ['math',100],\r\n",
        "               ['kalkulus',100],\r\n",
        "               ['statistika',100]\r\n",
        "    ]\r\n",
        "}\r\n",
        "print(dict1['nilai'][2])"
      ],
      "execution_count": 15,
      "outputs": [
        {
          "output_type": "stream",
          "text": [
            "['statistika', 100]\n"
          ],
          "name": "stdout"
        }
      ]
    },
    {
      "cell_type": "code",
      "metadata": {
        "colab": {
          "base_uri": "https://localhost:8080/"
        },
        "id": "gIOS4vl6wuhU",
        "outputId": "47519a0e-5e1c-4062-8cb5-3eb4e556fae7"
      },
      "source": [
        "a,b=map(int,input().split())\r\n",
        "print(a/b)\r\n"
      ],
      "execution_count": 17,
      "outputs": [
        {
          "output_type": "stream",
          "text": [
            "4 2\n",
            "2.0\n"
          ],
          "name": "stdout"
        }
      ]
    }
  ]
}